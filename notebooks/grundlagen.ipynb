{
 "cells": [
  {
   "cell_type": "markdown",
   "metadata": {},
   "source": [
    "# Warum Datenvorverarbeitung?\n",
    "\n",
    "Künstliche Intelligenz (Artificial Intelligence) nimmt stetig Einzug in unterschiedliche Anwendungsbereiche:\n",
    "- Produktion\n",
    "- Gesundheitsbereich\n",
    "- Medien\n",
    "- ...\n",
    "\n",
    "Besonders maschinelles Lernen (Machine Learning) in Form von Deep Learning und Reinforcement Learning können große Erfolge vorweisen.\n",
    "\n",
    "Die Basis um künstliche Intelligenz (KI) überhaupt erfolgreich einzusetzen sind **Daten**.\n",
    "\n",
    "Bevor man Verfahren der KI auf Daten anwendet, müssen diese eine entsprechende **Qualität** aufweisen."
   ]
  },
  {
   "cell_type": "markdown",
   "metadata": {},
   "source": [
    "# **CR**oss-**I**ndustry **S**tandard **P**rocess for **D**ata **M**ining (CRISP-DM)\n",
    "\n",
    "CRISP-DM ist ein branchenübergreifender Prozess, der hilft Data Mining gut umzusetzen.\n",
    "\n",
    "Die einzelnen Phasen des CRISP-DM sind:\n",
    "\n",
    "- Geschäftsverständnis\n",
    "- Datenverständnis\n",
    "- Datenvorverarbeitung\n",
    "- Modellierung\n",
    "- Evaluierung\n",
    "- Bereitstellung"
   ]
  },
  {
   "cell_type": "markdown",
   "metadata": {},
   "source": [
    "# Datenvorverarbeitung\n",
    "\n",
    "Zitat aus der Informatik: **Garbage In, Garbage Out**\n",
    "\n",
    "\n",
    " Phasen der Datenvorverarbeitung:\n",
    " - **Data Cleansing**\n",
    " - **Feature Engineering**\n",
    " - **Data Transformation**\n",
    " - Data Reduction\n",
    " - Data Integration \n",
    "\n"
   ]
  }
 ],
 "metadata": {
  "interpreter": {
   "hash": "4eebe160e63ad5f82aa7a91511649c516a44246e16a02bd2da333646578bad64"
  },
  "kernelspec": {
   "display_name": "Python 3.7.4 ('base')",
   "language": "python",
   "name": "python3"
  },
  "language_info": {
   "codemirror_mode": {
    "name": "ipython",
    "version": 3
   },
   "file_extension": ".py",
   "mimetype": "text/x-python",
   "name": "python",
   "nbconvert_exporter": "python",
   "pygments_lexer": "ipython3",
   "version": "3.7.4"
  },
  "orig_nbformat": 4
 },
 "nbformat": 4,
 "nbformat_minor": 2
}
