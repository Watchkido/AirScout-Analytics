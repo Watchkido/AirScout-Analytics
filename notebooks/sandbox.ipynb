{
 "cells": [
  {
   "cell_type": "markdown",
   "metadata": {},
   "source": [
    "# Sandbox für Experimente"
   ]
  },
  {
   "cell_type": "code",
   "execution_count": null,
   "metadata": {},
   "outputs": [],
   "source": [
    "# Hier kannst du beliebig Code ausprobieren\n",
    "import numpy as np\n",
    "a = np.arange(10)\n",
    "print('Array:', a)\n",
    "print('Quadrate:', a**2)"
   ]
  }
 ],
 "metadata": {},
 "nbformat": 4,
 "nbformat_minor": 4
}
