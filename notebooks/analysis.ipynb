{
 "cells": [
  {
   "cell_type": "markdown",
   "metadata": {},
   "source": [
    "# Datenanalyse"
   ]
  },
  {
   "cell_type": "markdown",
   "metadata": {},
   "source": [
    "Laden"
   ]
  },
  {
   "cell_type": "markdown",
   "metadata": {},
   "source": [
    "ansicht"
   ]
  },
  {
   "cell_type": "code",
   "execution_count": 30,
   "metadata": {},
   "outputs": [
    {
     "name": "stdout",
     "output_type": "stream",
     "text": [
      "Spaltennamen: ['# ===================================']\n"
     ]
    }
   ],
   "source": [
    "import pandas as pd\n",
    "import matplotlib.pyplot as plt\n",
    "import csv\n",
    "csv_path = '../data/roh/airscout_full-spectrum_neustadt_weinstrasse_2025_07190605.csv'\n",
    "# Finde die erste Zeile ohne '#' als Header\n",
    "with open(csv_path, encoding='utf-8') as f:\n",
    "    for i, row in enumerate(f):\n",
    "        if not row.strip().startswith('#'):\n",
    "            header_row = i\n",
    "            break\n",
    "# Versuche zuerst mit Komma, dann mit Semikolon als Trennzeichen zu laden\n",
    "try:\n",
    "    df = pd.read_csv(csv_path, skiprows=header_row-1)\n",
    "    if df.shape[1] == 1:\n",
    "        raise ValueError('Nur eine Spalte erkannt, versuche sep=;')\n",
    "except Exception:\n",
    "    df = pd.read_csv(csv_path, skiprows=header_row-1, sep=';')\n",
    "df.reset_index(drop=True, inplace=True)\n",
    "print('Spaltennamen:', list(df.columns))"
   ]
  },
  {
   "cell_type": "code",
   "execution_count": 31,
   "metadata": {},
   "outputs": [],
   "source": [
    "# Entferne alle Zeit-Zusätze wie ' MESZ', ' UTC', ' utc', 'UTC1', 'UT', 'CET' usw. am Ende der Strings\n",
    "import re\n",
    "for col in ['DateTime', 'GPS_DateTime']:\n",
    "    if col in df.columns:\n",
    "        df[col] = df[col].str.replace(r'\\s*(MESZ|mesz|UTC\\d*|utc\\d*|UT\\d*|ut\\d*|CET|cet)$', '', regex=True)"
   ]
  },
  {
   "cell_type": "code",
   "execution_count": null,
   "metadata": {},
   "outputs": [],
   "source": []
  },
  {
   "cell_type": "code",
   "execution_count": 32,
   "metadata": {},
   "outputs": [
    {
     "data": {
      "application/vnd.microsoft.datawrangler.viewer.v0+json": {
       "columns": [
        {
         "name": "index",
         "rawType": "int64",
         "type": "integer"
        },
        {
         "name": "# ===================================",
         "rawType": "object",
         "type": "string"
        }
       ],
       "ref": "d16cd0dd-500d-466d-b0ef-72ce6686d17c",
       "rows": [
        [
         "0",
         "SecSinceMidnight-MS,Temperature_DHT_C,Humidity_RH,Light_Level,Light_Percent,GPS_Lat,GPS_Lon,GPS_Alt,GPS_Speed,GPS_Course,GPS_Sats,MQ2,MQ3,MQ4,MQ5,MQ6,MQ7,MQ8,MQ9,MQ135,Mic1,Mic2,Radiation_CPS,DateTime,GPS_DateTime"
        ],
        [
         "1",
         "21955-985,0.0,0.0,7,99.3,--,--,--,--,--,0,16,104,259,230,151,123,216,26,14,5,3,0,2025-07-19 08:05:55 MESZ,----/--/-- --:--:-- UTC"
        ],
        [
         "2",
         "21957-982,25.2,47.0,7,99.5,--,--,--,--,--,0,19,110,265,235,154,131,221,38,15,3,3,0,2025-07-19 08:05:57 MESZ,----/--/-- --:--:-- UTC"
        ],
        [
         "3",
         "21959-060,25.3,47.0,7,99.3,--,--,--,--,--,0,21,122,271,242,162,142,229,57,22,3,4,0,2025-07-19 08:05:59 MESZ,----/--/-- --:--:-- UTC"
        ],
        [
         "4",
         "21961-355,25.3,47.0,8,99.3,--,--,--,--,--,0,27,124,272,243,162,147,229,79,24,4,4,1,2025-07-19 08:06:01 MESZ,----/--/-- --:--:-- UTC"
        ]
       ],
       "shape": {
        "columns": 1,
        "rows": 5
       }
      },
      "text/html": [
       "<div>\n",
       "<style scoped>\n",
       "    .dataframe tbody tr th:only-of-type {\n",
       "        vertical-align: middle;\n",
       "    }\n",
       "\n",
       "    .dataframe tbody tr th {\n",
       "        vertical-align: top;\n",
       "    }\n",
       "\n",
       "    .dataframe thead th {\n",
       "        text-align: right;\n",
       "    }\n",
       "</style>\n",
       "<table border=\"1\" class=\"dataframe\">\n",
       "  <thead>\n",
       "    <tr style=\"text-align: right;\">\n",
       "      <th></th>\n",
       "      <th># ===================================</th>\n",
       "    </tr>\n",
       "  </thead>\n",
       "  <tbody>\n",
       "    <tr>\n",
       "      <th>0</th>\n",
       "      <td>SecSinceMidnight-MS,Temperature_DHT_C,Humidity...</td>\n",
       "    </tr>\n",
       "    <tr>\n",
       "      <th>1</th>\n",
       "      <td>21955-985,0.0,0.0,7,99.3,--,--,--,--,--,0,16,1...</td>\n",
       "    </tr>\n",
       "    <tr>\n",
       "      <th>2</th>\n",
       "      <td>21957-982,25.2,47.0,7,99.5,--,--,--,--,--,0,19...</td>\n",
       "    </tr>\n",
       "    <tr>\n",
       "      <th>3</th>\n",
       "      <td>21959-060,25.3,47.0,7,99.3,--,--,--,--,--,0,21...</td>\n",
       "    </tr>\n",
       "    <tr>\n",
       "      <th>4</th>\n",
       "      <td>21961-355,25.3,47.0,8,99.3,--,--,--,--,--,0,27...</td>\n",
       "    </tr>\n",
       "  </tbody>\n",
       "</table>\n",
       "</div>"
      ],
      "text/plain": [
       "               # ===================================\n",
       "0  SecSinceMidnight-MS,Temperature_DHT_C,Humidity...\n",
       "1  21955-985,0.0,0.0,7,99.3,--,--,--,--,--,0,16,1...\n",
       "2  21957-982,25.2,47.0,7,99.5,--,--,--,--,--,0,19...\n",
       "3  21959-060,25.3,47.0,7,99.3,--,--,--,--,--,0,21...\n",
       "4  21961-355,25.3,47.0,8,99.3,--,--,--,--,--,0,27..."
      ]
     },
     "metadata": {},
     "output_type": "display_data"
    },
    {
     "data": {
      "application/vnd.microsoft.datawrangler.viewer.v0+json": {
       "columns": [
        {
         "name": "index",
         "rawType": "object",
         "type": "string"
        },
        {
         "name": "# ===================================",
         "rawType": "object",
         "type": "unknown"
        }
       ],
       "ref": "526d6966-ea20-4cc9-8c93-2c18f13970d4",
       "rows": [
        [
         "count",
         "1947"
        ],
        [
         "unique",
         "1947"
        ],
        [
         "top",
         "SecSinceMidnight-MS,Temperature_DHT_C,Humidity_RH,Light_Level,Light_Percent,GPS_Lat,GPS_Lon,GPS_Alt,GPS_Speed,GPS_Course,GPS_Sats,MQ2,MQ3,MQ4,MQ5,MQ6,MQ7,MQ8,MQ9,MQ135,Mic1,Mic2,Radiation_CPS,DateTime,GPS_DateTime"
        ],
        [
         "freq",
         "1"
        ]
       ],
       "shape": {
        "columns": 1,
        "rows": 4
       }
      },
      "text/html": [
       "<div>\n",
       "<style scoped>\n",
       "    .dataframe tbody tr th:only-of-type {\n",
       "        vertical-align: middle;\n",
       "    }\n",
       "\n",
       "    .dataframe tbody tr th {\n",
       "        vertical-align: top;\n",
       "    }\n",
       "\n",
       "    .dataframe thead th {\n",
       "        text-align: right;\n",
       "    }\n",
       "</style>\n",
       "<table border=\"1\" class=\"dataframe\">\n",
       "  <thead>\n",
       "    <tr style=\"text-align: right;\">\n",
       "      <th></th>\n",
       "      <th># ===================================</th>\n",
       "    </tr>\n",
       "  </thead>\n",
       "  <tbody>\n",
       "    <tr>\n",
       "      <th>count</th>\n",
       "      <td>1947</td>\n",
       "    </tr>\n",
       "    <tr>\n",
       "      <th>unique</th>\n",
       "      <td>1947</td>\n",
       "    </tr>\n",
       "    <tr>\n",
       "      <th>top</th>\n",
       "      <td>SecSinceMidnight-MS,Temperature_DHT_C,Humidity...</td>\n",
       "    </tr>\n",
       "    <tr>\n",
       "      <th>freq</th>\n",
       "      <td>1</td>\n",
       "    </tr>\n",
       "  </tbody>\n",
       "</table>\n",
       "</div>"
      ],
      "text/plain": [
       "                    # ===================================\n",
       "count                                                1947\n",
       "unique                                               1947\n",
       "top     SecSinceMidnight-MS,Temperature_DHT_C,Humidity...\n",
       "freq                                                    1"
      ]
     },
     "execution_count": 32,
     "metadata": {},
     "output_type": "execute_result"
    }
   ],
   "source": [
    "\n",
    "display(df.head())\n",
    "df.describe()\n"
   ]
  }
 ],
 "metadata": {
  "kernelspec": {
   "display_name": "Python 3",
   "language": "python",
   "name": "python3"
  },
  "language_info": {
   "codemirror_mode": {
    "name": "ipython",
    "version": 3
   },
   "file_extension": ".py",
   "mimetype": "text/x-python",
   "name": "python",
   "nbconvert_exporter": "python",
   "pygments_lexer": "ipython3",
   "version": "3.13.5"
  }
 },
 "nbformat": 4,
 "nbformat_minor": 4
}
